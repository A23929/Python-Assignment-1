{
 "cells": [
  {
   "cell_type": "markdown",
   "metadata": {},
   "source": [
    "### Review Questions on Functions"
   ]
  },
  {
   "cell_type": "markdown",
   "metadata": {},
   "source": [
    "Q1. Write a program to compute the real roots of the equation $ax^2+bx+c.$"
   ]
  },
  {
   "cell_type": "code",
   "execution_count": 14,
   "metadata": {},
   "outputs": [
    {
     "name": "stdout",
     "output_type": "stream",
     "text": [
      "(-0.1139990636706174, -4.386000936329383)\n"
     ]
    }
   ],
   "source": [
    "import math\n",
    "def fun(y):\n",
    "    '''\n",
    "    function to compute the real roots of the equation 𝑎𝑥2+𝑏𝑥+𝑐.\n",
    "    Input: 3 numbers a, b, c\n",
    "    Output: the list of roots of the equation\n",
    "    author: Aniruddha Padmanaban\n",
    "    date: August 08, 2021 \n",
    "    '''\n",
    "    det=math.sqrt(y['b']**2-4*y['a']*y['c']) # Computing the determinant of the equation\n",
    "    x=((-y['b']+det)/(2*y['a'])),((-y['b']-det)/(2*y['a'])) # Getting the root using algebraic formula\n",
    "    return x\n",
    "l={\n",
    "    \"a\":2,\n",
    "    \"b\":9,\n",
    "    \"c\":1 \n",
    "    } \n",
    "print(fun(l))"
   ]
  },
  {
   "cell_type": "markdown",
   "metadata": {},
   "source": [
    "Q2. Write a program to compute the probability $P(X=x),$ where $X\\sim Bin(n=10,p=0.2)$"
   ]
  },
  {
   "cell_type": "code",
   "execution_count": 18,
   "metadata": {},
   "outputs": [
    {
     "ename": "ValueError",
     "evalue": "Invalid probability: 0<=p<=1",
     "output_type": "error",
     "traceback": [
      "\u001b[1;31m---------------------------------------------------------------------------\u001b[0m",
      "\u001b[1;31mValueError\u001b[0m                                Traceback (most recent call last)",
      "Input \u001b[1;32mIn [18]\u001b[0m, in \u001b[0;36m<cell line: 16>\u001b[1;34m()\u001b[0m\n\u001b[0;32m     14\u001b[0m     \u001b[38;5;28;01mreturn\u001b[39;00m ((math\u001b[38;5;241m.\u001b[39mfactorial(n))\u001b[38;5;241m/\u001b[39m(math\u001b[38;5;241m.\u001b[39mfactorial(x)\u001b[38;5;241m*\u001b[39mmath\u001b[38;5;241m.\u001b[39mfactorial(n\u001b[38;5;241m-\u001b[39mx))) \u001b[38;5;241m*\u001b[39m \u001b[38;5;241m0.2\u001b[39m\u001b[38;5;241m*\u001b[39m\u001b[38;5;241m*\u001b[39mx \u001b[38;5;241m*\u001b[39m (\u001b[38;5;241m1\u001b[39m\u001b[38;5;241m-\u001b[39mp)\u001b[38;5;241m*\u001b[39m\u001b[38;5;241m*\u001b[39m(n\u001b[38;5;241m-\u001b[39mx)\n\u001b[0;32m     15\u001b[0m     \u001b[38;5;66;03m# Return the value of P(X=x) = nCx*p^x*(1-p)^n-x\u001b[39;00m\n\u001b[1;32m---> 16\u001b[0m \u001b[43mBin\u001b[49m\u001b[43m(\u001b[49m\u001b[38;5;241;43m0\u001b[39;49m\u001b[43m,\u001b[49m\u001b[38;5;241;43m10\u001b[39;49m\u001b[43m,\u001b[49m\u001b[38;5;241;43m9\u001b[39;49m\u001b[43m)\u001b[49m\n",
      "Input \u001b[1;32mIn [18]\u001b[0m, in \u001b[0;36mBin\u001b[1;34m(x, n, p)\u001b[0m\n\u001b[0;32m     10\u001b[0m     \u001b[38;5;28;01mreturn\u001b[39;00m \u001b[38;5;241m0\u001b[39m\n\u001b[0;32m     11\u001b[0m \u001b[38;5;28;01mif\u001b[39;00m p\u001b[38;5;241m<\u001b[39m\u001b[38;5;241m0\u001b[39m \u001b[38;5;129;01mor\u001b[39;00m p\u001b[38;5;241m>\u001b[39m\u001b[38;5;241m1\u001b[39m:\n\u001b[1;32m---> 12\u001b[0m     \u001b[38;5;28;01mraise\u001b[39;00m \u001b[38;5;167;01mValueError\u001b[39;00m(\u001b[38;5;124m\"\u001b[39m\u001b[38;5;124mInvalid probability: 0<=p<=1\u001b[39m\u001b[38;5;124m\"\u001b[39m)\n\u001b[0;32m     13\u001b[0m     \u001b[38;5;28;01mreturn\u001b[39;00m \n\u001b[0;32m     14\u001b[0m \u001b[38;5;28;01mreturn\u001b[39;00m ((math\u001b[38;5;241m.\u001b[39mfactorial(n))\u001b[38;5;241m/\u001b[39m(math\u001b[38;5;241m.\u001b[39mfactorial(x)\u001b[38;5;241m*\u001b[39mmath\u001b[38;5;241m.\u001b[39mfactorial(n\u001b[38;5;241m-\u001b[39mx))) \u001b[38;5;241m*\u001b[39m \u001b[38;5;241m0.2\u001b[39m\u001b[38;5;241m*\u001b[39m\u001b[38;5;241m*\u001b[39mx \u001b[38;5;241m*\u001b[39m (\u001b[38;5;241m1\u001b[39m\u001b[38;5;241m-\u001b[39mp)\u001b[38;5;241m*\u001b[39m\u001b[38;5;241m*\u001b[39m(n\u001b[38;5;241m-\u001b[39mx)\n",
      "\u001b[1;31mValueError\u001b[0m: Invalid probability: 0<=p<=1"
     ]
    }
   ],
   "source": [
    "def Bin(x,n=10,p=0.2):\n",
    "    '''\n",
    "    function to compute the probability 𝑃(𝑋=𝑥),  where  𝑋∼𝐵𝑖𝑛(𝑛=10,𝑝=0.2)\n",
    "    Input: 1 number x -a value that RV X can assume \n",
    "    Output: The Binomial probability for x\n",
    "    author: Aniruddha Padmanaban\n",
    "    date: August 08, 2021 \n",
    "    '''\n",
    "    if x>n: # This is meant for the impossible outcomes\n",
    "        return 0\n",
    "    if p<0 or p>1:\n",
    "        raise ValueError(\"Invalid probability: 0<=p<=1\")\n",
    "        return \n",
    "    return ((math.factorial(n))/(math.factorial(x)*math.factorial(n-x))) * 0.2**x * (1-p)**(n-x)\n",
    "    # Return the value of P(X=x) = nCx*p^x*(1-p)^n-x\n",
    "Bin(0,10,9)"
   ]
  },
  {
   "cell_type": "code",
   "execution_count": null,
   "metadata": {},
   "outputs": [],
   "source": [
    "Q3. Lets say you are running a 5 km race. Write a program that,\n",
    "\n",
    "Upon completing each 1 km asks you \"are you tired?\"\n",
    "\n",
    "If you reply \"yes\" then it should break and print \"you didn't finish the race\"\n",
    "\n",
    "If you reply \"no\" then it should continue and ask \"are you tired\" on every km\n",
    "\n",
    "If you finish all 5 km then it should print congratulations message\n"
   ]
  },
  {
   "cell_type": "code",
   "execution_count": 65,
   "metadata": {},
   "outputs": [
    {
     "name": "stdout",
     "output_type": "stream",
     "text": [
      "are you tired? yes\n",
      "you didn't finish the race\n"
     ]
    }
   ],
   "source": [
    "'''\n",
    "    program to print message for every kilometre run in a race of 5 km\n",
    "    Input: User response to whether tired or not each time the loop is run\n",
    "    Output: the result of the race\n",
    "    author: Aniruddha Padmanaban\n",
    "    date: August 08, 2021 \n",
    "    ''' \n",
    "i=0 # i is initially 0. It is the iterator for counting the distance run\n",
    "while i<5: # Loop statement with condition check for length of race\n",
    "    x=input(\"are you tired? \") # Query posed to the user and response taken as input\n",
    "    if x=='yes': # if response is yes\n",
    "        print(\"you didn't finish the race\") # Print message\n",
    "        break # break out of the loop as user stopped running\n",
    "    elif x=='no': # if response is no\n",
    "        i+=1 # increment i to register an additional kilometre covered\n",
    "    else: # input is something else\n",
    "        print(\"Invalid input\") # Print message\n",
    "        break # break out of the loop\n",
    "else: # if response is no for every kilometre covered\n",
    "    print(\"Congo! You finished the race!!\") # Print message"
   ]
  },
  {
   "cell_type": "markdown",
   "metadata": {},
   "source": [
    "Q4. Write a function `tip_calc(bill, party)`, where bill is the total cost of a meal and party is the number of people in the group. The tip should be calculated as 15% for a party strictly less than six people, 18% for a party strictly less than eight, 20% for a party less than 11, and 25% for a party 11 or more. A couple of test cases are given below. "
   ]
  },
  {
   "cell_type": "code",
   "execution_count": 73,
   "metadata": {},
   "outputs": [
    {
     "data": {
      "text/plain": [
       "25.0"
      ]
     },
     "execution_count": 73,
     "metadata": {},
     "output_type": "execute_result"
    }
   ],
   "source": [
    "def tip_calc(bill,party):\n",
    "    '''\n",
    "    function to compute the tip for a party of people \n",
    "    Input: bill-the total cost of a meal and party- the number of people in the group\n",
    "    Output: The calculated tip\n",
    "    author: Aniruddha Padmanaban\n",
    "    date: August 08, 2021 \n",
    "    '''\n",
    "    tip=bill # Assignment\n",
    "    if party<11: # condition check for party < 11\n",
    "        if party<8:# condition check for party < 8\n",
    "            if party<6:# condition check for party < 6\n",
    "                tip*=0.15\n",
    "            else: \n",
    "                tip*=0.18\n",
    "        else:\n",
    "            tip*=0.2\n",
    "    else:\n",
    "        tip*=0.25\n",
    "    return tip\n",
    "tip_calc(100,11)"
   ]
  },
  {
   "cell_type": "markdown",
   "metadata": {},
   "source": [
    "Q5. Write a function `mult_operation(a,b,operation)`. The input argument, operation, is a string that is either 'plus', 'minus', 'mult', 'div', or 'pow', and the function should compute: a+b, a−b, a∗b, a/b, and ab for the respective values for operation. A couple of test cases are given below."
   ]
  },
  {
   "cell_type": "code",
   "execution_count": 77,
   "metadata": {},
   "outputs": [
    {
     "data": {
      "text/plain": [
       "8"
      ]
     },
     "execution_count": 77,
     "metadata": {},
     "output_type": "execute_result"
    }
   ],
   "source": [
    "def mult_operation(a,b,operation): \n",
    "    '''\n",
    "    function to compute the result of binary operations performed \n",
    "    Input: a,b-numbers(float/int); operation-string\n",
    "    Output: The calculated result\n",
    "    author: Aniruddha Padmanaban\n",
    "    date: August 08, 2021 \n",
    "    '''\n",
    "    if operation=='plus': # For plus, return sum of a and b\n",
    "        return a+b\n",
    "    elif operation=='minus': # For minus, return difference between a and b\n",
    "        return a-b\n",
    "    elif operation=='mult': # For mult, return product of a and b\n",
    "        return a*b\n",
    "    elif operation=='div': # For div, return quotient when a is divided by b\n",
    "        return a/b\n",
    "    elif operation=='pow': # For pow, return the value of a raised to the power b\n",
    "        return a**b\n",
    "mult_operation(2,3,'pow')"
   ]
  },
  {
   "cell_type": "markdown",
   "metadata": {},
   "source": [
    "Q6. Consider a triangle with vertices at (0,0), (1,0), and (0,1). Write a function `inside_triangle(x,y)` where the output is the string ‘outside’ if the point (x,y) is outside of the triangle, ‘border’ if the point is exactly on the border of the triangle, and ‘inside’ if the point is on the inside of the triangle."
   ]
  },
  {
   "cell_type": "code",
   "execution_count": 1,
   "metadata": {},
   "outputs": [
    {
     "name": "stdout",
     "output_type": "stream",
     "text": [
      "inside\n"
     ]
    }
   ],
   "source": [
    "lx=lambda xy1,xy2,x,y: y-xy1[1]-((xy2[1]-xy1[1])/(xy2[0]-xy1[0]))*(x-xy1[0]) # lambda function to check if a particular point satisfies the equation of a line passing through two given points\n",
    "ly=lambda xy1,xy2,x,y: (y-xy1[1]) * ((xy2[0]-xy1[0])/(xy2[1]-xy1[1])) - (x-xy1[0]) # Lambda function which performs the same role as the above one except that its purpose is to execute when the x-coordinates of the particular point differ by 0 \n",
    "def chk(u,v,x,y):\n",
    "    '''\n",
    "    function to call lambda functions to check if a point satisfies the equation of the line passing through 2 points \n",
    "    Input: the two points through which the line passes, the (x,y) coordinates of the point in question\n",
    "    Output: The value of the equation at the given point\n",
    "    author: Aniruddha Padmanaban\n",
    "    date: August 08, 2021 \n",
    "    '''\n",
    "    if u[0]!=v[0]: # If x-coordinates of the points are unequal, lx is called and its value returned\n",
    "        return lx(u,v,x,y) \n",
    "    return ly(u,v,x,y) # Otherwise, ly is called and its value returned\n",
    "def inside_triangle(x,y): \n",
    "    '''\n",
    "    function to find the location of a point w.r.t a triangle \n",
    "    Input: the (x,y) coordinates of the point in question\n",
    "    Output: The message containing the relative location of the point\n",
    "    author: Aniruddha Padmanaban\n",
    "    date: August 08, 2021 \n",
    "    '''\n",
    "    p1=0,0 # These are the coordinates of the vertices of the triangle\n",
    "    p2=1,0 \n",
    "    p3=0,1 \n",
    "    if x<0 or y<0 or x>1 or y>1: # Condition check for the quadrant in which the given point lies\n",
    "        print(\"outside\") # The triangle lies in the first quadrant, so the point is outside (other quadrant)\n",
    "        return  \n",
    "        \n",
    "    l1=chk(p1,p2,x,y) # Function call to chk to check the value of the equation of the line passing through p1 and p2 at the point (x,y)\n",
    "    l2=chk(p2,p3,x,y) # Function call to chk to check the value of the equation of the line passing through p2 and p3 at the point (x,y)\n",
    "    l3=chk(p1,p3,x,y) # Function call to chk to check the value of the equation of the line passing through p1 and p3 at the point (x,y)\n",
    "    if l1==0 or l2==0 or l3==0: # Print border if (x,y) satisfies the equation of the lines of any of  the sides of the triangle\n",
    "        print(\"border\")\n",
    "    elif l2<0: # Print inside if the value of the equation is less than 0 at (x,y)\n",
    "        print(\"inside\")\n",
    "    else: # Otherwise, print outside \n",
    "        print(\"outside\")  \n",
    "inside_triangle(0.5,0.4)\n"
   ]
  },
  {
   "cell_type": "markdown",
   "metadata": {},
   "source": [
    "Q7. Write a function `letter_grader(percent)`, where grade is the string ‘O’ if percent is greater than 80, ‘A’ if percent is greater than 70, ‘B‘ if percent is greater than 60, ‘C’ if percent is greater than 40, and ‘F’ if percent is less than 40. Grades exactly on the division should be included in the higher grade category."
   ]
  },
  {
   "cell_type": "code",
   "execution_count": 6,
   "metadata": {},
   "outputs": [
    {
     "data": {
      "text/plain": [
       "'O'"
      ]
     },
     "execution_count": 6,
     "metadata": {},
     "output_type": "execute_result"
    }
   ],
   "source": [
    "def letter_grader(percent):\n",
    "    '''\n",
    "    function to compute the grade of a student for an exam given the marks obtained\n",
    "    Input: percent(float)-percentage of marks\n",
    "    Output: The calculated grade\n",
    "    author: Aniruddha Padmanaban\n",
    "    date: August 08, 2021 \n",
    "    '''\n",
    "    if percent<40: # condition check if percent<40\n",
    "        grade='F'\n",
    "    elif percent<=60: # condition check if percent<=60\n",
    "        grade='C'\n",
    "    elif percent<=70: # condition check if percent<=70\n",
    "        grade='B'\n",
    "    elif percent<=80: # condition check if percent<=80\n",
    "        grade='A'\n",
    "    else: # Otherwise (percent>80)\n",
    "        grade='O'\n",
    "    return grade\n",
    "letter_grader(81)"
   ]
  },
  {
   "cell_type": "markdown",
   "metadata": {},
   "source": [
    "Q8. Consider a nuclear reactor whose temperature is monitored by three sensors. An alarm should go off if any two of the sensor readings disagree. Write a function `nuke_alarm(s1,s2,s3)` where s1, s2, and s3 are the temperature readings for sensor 1, sensor 2, and sensor 3, respectively. The output should be the string ‘alarm!’ if any two of the temperature readings disagree by strictly more than 10 degrees and ‘normal’ otherwise."
   ]
  },
  {
   "cell_type": "code",
   "execution_count": 10,
   "metadata": {},
   "outputs": [
    {
     "name": "stdout",
     "output_type": "stream",
     "text": [
      "alarm!\n"
     ]
    }
   ],
   "source": [
    "def nuke_alarm(s1,s2,s3):\n",
    "    '''\n",
    "    function to print a message reagrding the sensor readings of a nuclear reactor\n",
    "    Input: s1,s2,s3-the readings of three sensors\n",
    "    Output: The message-alarm or normal\n",
    "    author: Aniruddha Padmanaban\n",
    "    date: August 08, 2021 \n",
    "    '''\n",
    "    if abs(s1-s2)>10 or abs(s2-s3)>10 or abs(s1-s3)>10: # Check if absolute value of any two of the sensor readings disagree\n",
    "        print('alarm!') # Print message\n",
    "    else: # otherwise\n",
    "        print(\"normal\") # Print message\n",
    "nuke_alarm(290,24,23)"
   ]
  },
  {
   "cell_type": "markdown",
   "metadata": {},
   "source": [
    "Q9.  Write a function `n_odds(x)`, where $x$ is a one-dimensional array of floats and the output is the number of odd numbers in $x.$"
   ]
  },
  {
   "cell_type": "code",
   "execution_count": 5,
   "metadata": {},
   "outputs": [
    {
     "data": {
      "text/plain": [
       "3"
      ]
     },
     "execution_count": 5,
     "metadata": {},
     "output_type": "execute_result"
    }
   ],
   "source": [
    "def n_odds(x):\n",
    "    '''\n",
    "    function to compute the number of odd numbers in a one-dimensional array of floats.\n",
    "    Input: x:- one-dimensional array of floats \n",
    "    Output: The calculated number of odd numbers in x\n",
    "    author: Aniruddha Padmanaban\n",
    "    date: August 08, 2021 \n",
    "    '''\n",
    "    nodd=0 # Set count to 0 \n",
    "    for i in x: # For loop to iterate through the array\n",
    "        if type(i)==int: # Condition check: if the element is an integer\n",
    "            if i%2: # if the integer is divisible by 2\n",
    "                nodd+=1 # Increment nodd\n",
    "        elif type(i)==float and round(i)==i: # If it is a float and when rounded off gives the same value(only possible for numbers ending in .0)\n",
    "            if int(i)%2: # if integer equivalent of the float is divisible by 2\n",
    "                nodd+=1 # Increment nodd\n",
    "    return nodd \n",
    "n_odds([3,121.0,18.5,34,129,548.324289,0.0,-2.23,-0.78])"
   ]
  },
  {
   "cell_type": "markdown",
   "metadata": {},
   "source": [
    "Q10. Write a function `vol_cylinder(r,h)`, where $r$ and $h$ are the radius and height of a cylinder, respectively, and the output is a list $[s, v]$ where $s$ and $v$ are the surface area and volume of the same cylinder, respectively. Recall that the surface area of a cylinder is $2πr^2+2πrh,$ and the volume is $πr^2h.$    Assume that $r$ and $h$ are 1 by 1 float."
   ]
  },
  {
   "cell_type": "code",
   "execution_count": 21,
   "metadata": {},
   "outputs": [
    {
     "data": {
      "text/plain": [
       "(131.94689145077132, 113.09733552923255)"
      ]
     },
     "execution_count": 21,
     "metadata": {},
     "output_type": "execute_result"
    }
   ],
   "source": [
    "import math\n",
    "def vol_cylinder(r,h):\n",
    "    '''\n",
    "    function to compute the volume (and surface area) of a cylinder\n",
    "    Input: floats r-radius of cylinder and h-height of cylinder\n",
    "    Output: The calculated surface area and volume of given cylinder in the form of a tuple\n",
    "    author: Aniruddha Padmanaban\n",
    "    date: August 08, 2021 \n",
    "    '''\n",
    "    s=2*math.pi*r*(r+h) # Formula of surface area\n",
    "    v=math.pi*r**2*h  # Formula of volume\n",
    "    return s,v # return a tuple of s and v\n",
    "vol_cylinder(3,4)"
   ]
  }
 ],
 "metadata": {
  "kernelspec": {
   "display_name": "Python 3 (ipykernel)",
   "language": "python",
   "name": "python3"
  },
  "language_info": {
   "codemirror_mode": {
    "name": "ipython",
    "version": 3
   },
   "file_extension": ".py",
   "mimetype": "text/x-python",
   "name": "python",
   "nbconvert_exporter": "python",
   "pygments_lexer": "ipython3",
   "version": "3.9.13"
  },
  "vscode": {
   "interpreter": {
    "hash": "0c3475d628a6e1891247424f441d1061dae8f5ba2fe4a38277c605d30418b22f"
   }
  }
 },
 "nbformat": 4,
 "nbformat_minor": 2
}
