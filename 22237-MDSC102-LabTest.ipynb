{
 "cells": [
  {
   "cell_type": "markdown",
   "id": "66dacb2d",
   "metadata": {},
   "source": [
    "# MDSC-102  Lab Test"
   ]
  },
  {
   "cell_type": "markdown",
   "id": "f25c46da",
   "metadata": {},
   "source": [
    "###  Date: 17/11/22"
   ]
  },
  {
   "cell_type": "code",
   "execution_count": 12,
   "id": "4499d897",
   "metadata": {},
   "outputs": [],
   "source": [
    "import numpy as np\n",
    "import pandas as pd\n",
    "import matplotlib.pyplot as plt\n",
    "import scipy.stats as stats"
   ]
  },
  {
   "cell_type": "markdown",
   "id": "feda0be4",
   "metadata": {},
   "source": [
    "### Q1) "
   ]
  },
  {
   "cell_type": "code",
   "execution_count": 8,
   "id": "c95448f8",
   "metadata": {},
   "outputs": [
    {
     "data": {
      "text/plain": [
       "array([ 10,  20,  30,  40,  50,  60,  70,  80,  90, 100])"
      ]
     },
     "execution_count": 8,
     "metadata": {},
     "output_type": "execute_result"
    }
   ],
   "source": [
    "x = np.arange(10,110,10)\n",
    "x"
   ]
  },
  {
   "cell_type": "markdown",
   "id": "924ba9b6",
   "metadata": {},
   "source": [
    "### Q2)"
   ]
  },
  {
   "cell_type": "markdown",
   "id": "a8be6e16",
   "metadata": {},
   "source": [
    "Data type for 4 is integer (int)"
   ]
  },
  {
   "cell_type": "markdown",
   "id": "0495f402",
   "metadata": {},
   "source": [
    "### Q3)"
   ]
  },
  {
   "cell_type": "code",
   "execution_count": 13,
   "id": "bf870188",
   "metadata": {},
   "outputs": [
    {
     "data": {
      "text/plain": [
       "((3, 4, 5), 3)"
      ]
     },
     "execution_count": 13,
     "metadata": {},
     "output_type": "execute_result"
    }
   ],
   "source": [
    "z_list = [z for z in range(0,5)] \n",
    "y_list = [z_list for y in range(0,4)]\n",
    "x_list = [y_list for x in range(0,3)]\n",
    "\n",
    "x_array = np.array(x_list)\n",
    "x_array.shape,x_array.ndim"
   ]
  },
  {
   "cell_type": "markdown",
   "id": "2d25f88d",
   "metadata": {},
   "source": [
    "### Q4)"
   ]
  },
  {
   "cell_type": "code",
   "execution_count": 35,
   "id": "359a7be7",
   "metadata": {},
   "outputs": [
    {
     "data": {
      "text/html": [
       "<div>\n",
       "<style scoped>\n",
       "    .dataframe tbody tr th:only-of-type {\n",
       "        vertical-align: middle;\n",
       "    }\n",
       "\n",
       "    .dataframe tbody tr th {\n",
       "        vertical-align: top;\n",
       "    }\n",
       "\n",
       "    .dataframe thead th {\n",
       "        text-align: right;\n",
       "    }\n",
       "</style>\n",
       "<table border=\"1\" class=\"dataframe\">\n",
       "  <thead>\n",
       "    <tr style=\"text-align: right;\">\n",
       "      <th></th>\n",
       "      <th>age</th>\n",
       "      <th>gender</th>\n",
       "      <th></th>\n",
       "      <th>job</th>\n",
       "      <th>name</th>\n",
       "      <th>height</th>\n",
       "    </tr>\n",
       "  </thead>\n",
       "  <tbody>\n",
       "    <tr>\n",
       "      <th>0</th>\n",
       "      <td>0</td>\n",
       "      <td>19</td>\n",
       "      <td>F</td>\n",
       "      <td>student</td>\n",
       "      <td>alice</td>\n",
       "      <td>165.0</td>\n",
       "    </tr>\n",
       "    <tr>\n",
       "      <th>1</th>\n",
       "      <td>0</td>\n",
       "      <td>26</td>\n",
       "      <td>M</td>\n",
       "      <td>student</td>\n",
       "      <td>john</td>\n",
       "      <td>180.0</td>\n",
       "    </tr>\n",
       "    <tr>\n",
       "      <th>2</th>\n",
       "      <td>0</td>\n",
       "      <td>22</td>\n",
       "      <td>M</td>\n",
       "      <td>student</td>\n",
       "      <td>eric</td>\n",
       "      <td>175.0</td>\n",
       "    </tr>\n",
       "    <tr>\n",
       "      <th>3</th>\n",
       "      <td>0</td>\n",
       "      <td>58</td>\n",
       "      <td>F</td>\n",
       "      <td>manager</td>\n",
       "      <td>paul</td>\n",
       "      <td>NaN</td>\n",
       "    </tr>\n",
       "    <tr>\n",
       "      <th>4</th>\n",
       "      <td>0</td>\n",
       "      <td>33</td>\n",
       "      <td>M</td>\n",
       "      <td>engineer</td>\n",
       "      <td>peter</td>\n",
       "      <td>NaN</td>\n",
       "    </tr>\n",
       "    <tr>\n",
       "      <th>5</th>\n",
       "      <td>0</td>\n",
       "      <td>44</td>\n",
       "      <td>F</td>\n",
       "      <td>scientist</td>\n",
       "      <td>julie</td>\n",
       "      <td>171.0</td>\n",
       "    </tr>\n",
       "  </tbody>\n",
       "</table>\n",
       "</div>"
      ],
      "text/plain": [
       "   age  gender           job   name  height\n",
       "0    0      19  F    student  alice   165.0\n",
       "1    0      26  M    student   john   180.0\n",
       "2    0      22  M    student   eric   175.0\n",
       "3    0      58  F    manager   paul     NaN\n",
       "4    0      33  M   engineer  peter     NaN\n",
       "5    0      44  F  scientist  julie   171.0"
      ]
     },
     "execution_count": 35,
     "metadata": {},
     "output_type": "execute_result"
    }
   ],
   "source": [
    "i = ['age','gender','','job','name','height']\n",
    "d = [[0,19,'F','student','alice',165.0],[0,26,'M','student','john',180.0],[0,22,'M','student','eric',175.0],\n",
    "    [0,58,'F','manager','paul'],[0,33,'M','engineer','peter'],[0,44,'F','scientist','julie',171.0]]\n",
    "t = pd.DataFrame(data = d,columns=i)\n",
    "t"
   ]
  },
  {
   "cell_type": "markdown",
   "id": "03b7f233",
   "metadata": {},
   "source": [
    "### Q5)"
   ]
  },
  {
   "cell_type": "markdown",
   "id": "c8e154f0",
   "metadata": {},
   "source": [
    "master is highest management"
   ]
  },
  {
   "cell_type": "markdown",
   "id": "2dc46a7e",
   "metadata": {},
   "source": [
    "### Q6)"
   ]
  },
  {
   "cell_type": "code",
   "execution_count": 14,
   "id": "12dd669a",
   "metadata": {},
   "outputs": [
    {
     "name": "stdout",
     "output_type": "stream",
     "text": [
      "2.3968766311585883\n"
     ]
    },
    {
     "data": {
      "image/png": "[encoded data removed]",
      "text/plain": [
       "<Figure size 432x288 with 1 Axes>"
      ]
     },
     "metadata": {
      "needs_background": "light"
     },
     "output_type": "display_data"
    }
   ],
   "source": [
    "x=[1.83, 1.83, 1.73, 1.82, 1.83, 1.73, 1.99, 1.85, 1.68, 1.87]\n",
    "xbar = np.mean(x)                       \n",
    "mu = 1.75                                        \n",
    "s = np.std(x, ddof=1)                               \n",
    "n = len(x)                                           \n",
    "tobs = (xbar - mu) / (s / np.sqrt(n))\n",
    "print(tobs)\n",
    "2.3968766311585883\n",
    "tvalues = np.linspace(-10, 10, 100)\n",
    "plt.plot(tvalues, stats.t.pdf(tvalues, n-1), 'b-', label=\"T(n-1)\")\n",
    "upper_tval_tvalues = tvalues[tvalues > tobs]\n",
    "plt.fill_between(upper_tval_tvalues, 0, stats.t.pdf(upper_tval_tvalues, n-1), alpha=.9, label=\"p-value\")\n",
    "plt.legend()\n",
    "plt.show()"
   ]
  },
  {
   "cell_type": "markdown",
   "id": "82c81498",
   "metadata": {},
   "source": [
    "### Q7)"
   ]
  },
  {
   "cell_type": "code",
   "execution_count": 69,
   "id": "71a7863e",
   "metadata": {},
   "outputs": [
    {
     "data": {
      "image/png": "[encoded data removed]",
      "text/plain": [
       "<Figure size 432x288 with 1 Axes>"
      ]
     },
     "metadata": {
      "needs_background": "light"
     },
     "output_type": "display_data"
    }
   ],
   "source": [
    "def f(x,theta):\n",
    "    return (1+theta)*x**theta\n",
    "f1 = np.vectorize(f) \n",
    "x = np.linspace(0,1,1000)\n",
    "plt.plot(x,f1(x,3))\n",
    "plt.show()"
   ]
  },
  {
   "cell_type": "markdown",
   "id": "18f186b5",
   "metadata": {},
   "source": [
    "### Q8)"
   ]
  },
  {
   "cell_type": "code",
   "execution_count": 24,
   "id": "89c78512",
   "metadata": {},
   "outputs": [
    {
     "data": {
      "image/png": "[encoded data removed]",
      "text/plain": [
       "<Figure size 1440x576 with 2 Axes>"
      ]
     },
     "metadata": {
      "needs_background": "light"
     },
     "output_type": "display_data"
    }
   ],
   "source": [
    "x = np.random.standard_normal(100)\n",
    "\n",
    "plt.figure(figsize=(20,8))\n",
    "plt.subplot(1,2,1)\n",
    "plt.hist(x,bins=10)\n",
    "plt.title('Histogram',fontsize=25)\n",
    "\n",
    "plt.subplot(1,2,2)\n",
    "plt.boxplot(x)\n",
    "plt.title('Box_Plot',fontsize=25)\n",
    "\n",
    "plt.show()"
   ]
  },
  {
   "cell_type": "markdown",
   "id": "88ac7d8d",
   "metadata": {},
   "source": [
    "### Q9)"
   ]
  },
  {
   "cell_type": "code",
   "execution_count": 15,
   "id": "174b2c9e",
   "metadata": {},
   "outputs": [
    {
     "name": "stdout",
     "output_type": "stream",
     "text": [
      "aditya bharadwaj\n",
      "satya sai gopinath\n",
      "sai vamsee\n",
      "hemanth sai pavan\n",
      "lalith aditya\n",
      "pavan pyla\n",
      "sai mathura krishnan\n",
      "varanasi sai kumar\n",
      "saideva sathvik\n",
      "aharneish abburu\n",
      "anirudha padmanaban\n",
      "srihari\n",
      "hima sai swaroop\n",
      "\n"
     ]
    }
   ],
   "source": [
    "kaj = pd.Series(data=['aditya bharadwaj','reddy','satya sai gopinath','sai vamsee','hemanth sai pavan','lalith aditya','pavan pyla','sai mathura krishnan','varanasi sai kumar','saideva sathvik','aharneish abburu','anirudha padmanaban','srihari','hima sai swaroop'])\n",
    "\n",
    "\n",
    "for i in range(0,len(kaj)):\n",
    "    count = 0\n",
    "    for j in range(0,len(kaj.iloc[i])):\n",
    "        if(kaj.iloc[i][j]=='a' or kaj.iloc[i][j]=='e' or kaj.iloc[i][j]=='i' or kaj.iloc[i][j]=='o' or kaj.iloc[i][j]=='u'):\n",
    "            count+=1\n",
    "    if(count>=2):\n",
    "        print(kaj.iloc[i])\n",
    "        \n",
    "        \n",
    "print()"
   ]
  },
  {
   "cell_type": "markdown",
   "id": "c35f7b48",
   "metadata": {},
   "source": [
    "### Q10)"
   ]
  },
  {
   "cell_type": "code",
   "execution_count": 5,
   "id": "1412d072",
   "metadata": {},
   "outputs": [
    {
     "name": "stdout",
     "output_type": "stream",
     "text": [
      "21.0 21.0 0.0\n"
     ]
    }
   ],
   "source": [
    "xx = np.random.randint(1,100)\n",
    "mean = np.mean(xx)\n",
    "med = np.median(xx)\n",
    "sd = np.std(xx)\n",
    "print(mean,med,sd)"
   ]
  },
  {
   "cell_type": "code",
   "execution_count": null,
   "id": "147f7077",
   "metadata": {},
   "outputs": [],
   "source": []
  }
 ],
 "metadata": {
  "kernelspec": {
   "display_name": "Python 3 (ipykernel)",
   "language": "python",
   "name": "python3"
  },
  "language_info": {
   "codemirror_mode": {
    "name": "ipython",
    "version": 3
   },
   "file_extension": ".py",
   "mimetype": "text/x-python",
   "name": "python",
   "nbconvert_exporter": "python",
   "pygments_lexer": "ipython3",
   "version": "3.9.13"
  }
 },
 "nbformat": 4,
 "nbformat_minor": 5
}
