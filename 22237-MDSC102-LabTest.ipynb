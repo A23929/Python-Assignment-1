{
 "cells": [
  {
   "cell_type": "markdown",
   "id": "66dacb2d",
   "metadata": {},
   "source": [
    "# MDSC-102  Lab Test"
   ]
  },
  {
   "cell_type": "markdown",
   "id": "f25c46da",
   "metadata": {},
   "source": [
    "###  Date: 17/11/22"
   ]
  },
  {
   "cell_type": "code",
   "execution_count": 1,
   "id": "4499d897",
   "metadata": {},
   "outputs": [],
   "source": [
    "import numpy as np\n",
    "import pandas as pd\n",
    "import matplotlib.pyplot as plt"
   ]
  },
  {
   "cell_type": "markdown",
   "id": "feda0be4",
   "metadata": {},
   "source": [
    "### Q1) "
   ]
  },
  {
   "cell_type": "code",
   "execution_count": 8,
   "id": "c95448f8",
   "metadata": {},
   "outputs": [
    {
     "data": {
      "text/plain": [
       "array([ 10,  20,  30,  40,  50,  60,  70,  80,  90, 100])"
      ]
     },
     "execution_count": 8,
     "metadata": {},
     "output_type": "execute_result"
    }
   ],
   "source": [
    "x = np.arange(10,110,10)\n",
    "x"
   ]
  },
  {
   "cell_type": "markdown",
   "id": "924ba9b6",
   "metadata": {},
   "source": [
    "### Q2)"
   ]
  },
  {
   "cell_type": "markdown",
   "id": "a8be6e16",
   "metadata": {},
   "source": [
    "Data type for 4 is integer (int)"
   ]
  },
  {
   "cell_type": "markdown",
   "id": "0495f402",
   "metadata": {},
   "source": [
    "### Q3)"
   ]
  },
  {
   "cell_type": "code",
   "execution_count": 13,
   "id": "bf870188",
   "metadata": {},
   "outputs": [
    {
     "data": {
      "text/plain": [
       "((3, 4, 5), 3)"
      ]
     },
     "execution_count": 13,
     "metadata": {},
     "output_type": "execute_result"
    }
   ],
   "source": [
    "z_list = [z for z in range(0,5)] \n",
    "y_list = [z_list for y in range(0,4)]\n",
    "x_list = [y_list for x in range(0,3)]\n",
    "\n",
    "x_array = np.array(x_list)\n",
    "x_array.shape,x_array.ndim"
   ]
  },
  {
   "cell_type": "markdown",
   "id": "2d25f88d",
   "metadata": {},
   "source": [
    "### Q4)"
   ]
  },
  {
   "cell_type": "code",
   "execution_count": 35,
   "id": "359a7be7",
   "metadata": {},
   "outputs": [
    {
     "data": {
      "text/html": [
       "<div>\n",
       "<style scoped>\n",
       "    .dataframe tbody tr th:only-of-type {\n",
       "        vertical-align: middle;\n",
       "    }\n",
       "\n",
       "    .dataframe tbody tr th {\n",
       "        vertical-align: top;\n",
       "    }\n",
       "\n",
       "    .dataframe thead th {\n",
       "        text-align: right;\n",
       "    }\n",
       "</style>\n",
       "<table border=\"1\" class=\"dataframe\">\n",
       "  <thead>\n",
       "    <tr style=\"text-align: right;\">\n",
       "      <th></th>\n",
       "      <th>age</th>\n",
       "      <th>gender</th>\n",
       "      <th></th>\n",
       "      <th>job</th>\n",
       "      <th>name</th>\n",
       "      <th>height</th>\n",
       "    </tr>\n",
       "  </thead>\n",
       "  <tbody>\n",
       "    <tr>\n",
       "      <th>0</th>\n",
       "      <td>0</td>\n",
       "      <td>19</td>\n",
       "      <td>F</td>\n",
       "      <td>student</td>\n",
       "      <td>alice</td>\n",
       "      <td>165.0</td>\n",
       "    </tr>\n",
       "    <tr>\n",
       "      <th>1</th>\n",
       "      <td>0</td>\n",
       "      <td>26</td>\n",
       "      <td>M</td>\n",
       "      <td>student</td>\n",
       "      <td>john</td>\n",
       "      <td>180.0</td>\n",
       "    </tr>\n",
       "    <tr>\n",
       "      <th>2</th>\n",
       "      <td>0</td>\n",
       "      <td>22</td>\n",
       "      <td>M</td>\n",
       "      <td>student</td>\n",
       "      <td>eric</td>\n",
       "      <td>175.0</td>\n",
       "    </tr>\n",
       "    <tr>\n",
       "      <th>3</th>\n",
       "      <td>0</td>\n",
       "      <td>58</td>\n",
       "      <td>F</td>\n",
       "      <td>manager</td>\n",
       "      <td>paul</td>\n",
       "      <td>NaN</td>\n",
       "    </tr>\n",
       "    <tr>\n",
       "      <th>4</th>\n",
       "      <td>0</td>\n",
       "      <td>33</td>\n",
       "      <td>M</td>\n",
       "      <td>engineer</td>\n",
       "      <td>peter</td>\n",
       "      <td>NaN</td>\n",
       "    </tr>\n",
       "    <tr>\n",
       "      <th>5</th>\n",
       "      <td>0</td>\n",
       "      <td>44</td>\n",
       "      <td>F</td>\n",
       "      <td>scientist</td>\n",
       "      <td>julie</td>\n",
       "      <td>171.0</td>\n",
       "    </tr>\n",
       "  </tbody>\n",
       "</table>\n",
       "</div>"
      ],
      "text/plain": [
       "   age  gender           job   name  height\n",
       "0    0      19  F    student  alice   165.0\n",
       "1    0      26  M    student   john   180.0\n",
       "2    0      22  M    student   eric   175.0\n",
       "3    0      58  F    manager   paul     NaN\n",
       "4    0      33  M   engineer  peter     NaN\n",
       "5    0      44  F  scientist  julie   171.0"
      ]
     },
     "execution_count": 35,
     "metadata": {},
     "output_type": "execute_result"
    }
   ],
   "source": [
    "i = ['age','gender','','job','name','height']\n",
    "d = [[0,19,'F','student','alice',165.0],[0,26,'M','student','john',180.0],[0,22,'M','student','eric',175.0],\n",
    "    [0,58,'F','manager','paul'],[0,33,'M','engineer','peter'],[0,44,'F','scientist','julie',171.0]]\n",
    "t = pd.DataFrame(data = d,columns=i)\n",
    "t"
   ]
  },
  {
   "cell_type": "markdown",
   "id": "03b7f233",
   "metadata": {},
   "source": [
    "### Q5)"
   ]
  },
  {
   "cell_type": "markdown",
   "id": "c8e154f0",
   "metadata": {},
   "source": [
    "master is highest management"
   ]
  },
  {
   "cell_type": "markdown",
   "id": "2dc46a7e",
   "metadata": {},
   "source": [
    "### Q6)"
   ]
  },
  {
   "cell_type": "code",
   "execution_count": 52,
   "id": "12dd669a",
   "metadata": {},
   "outputs": [
    {
     "name": "stdout",
     "output_type": "stream",
     "text": [
      "1.816\n"
     ]
    },
    {
     "data": {
      "text/plain": [
       "array([3.3489, 3.3489, 2.9929, 3.3124, 3.3489, 2.9929, 3.9601, 3.4225,\n",
       "       2.8224, 3.4969])"
      ]
     },
     "execution_count": 52,
     "metadata": {},
     "output_type": "execute_result"
    }
   ],
   "source": [
    "x = np.array([1.83, 1.83, 1.73, 1.82, 1.83, 1.73, 1.99, 1.85, 1.68, 1.87])\n",
    "x_bar = np.mean(x)\n",
    "print(x_bar)\n",
    "mu = 1.75\n",
    "n = 10\n",
    "temp = np.subtract(x,x_bar)**2/9"
   ]
  },
  {
   "cell_type": "markdown",
   "id": "82c81498",
   "metadata": {},
   "source": [
    "### Q7)"
   ]
  },
  {
   "cell_type": "code",
   "execution_count": 69,
   "id": "71a7863e",
   "metadata": {},
   "outputs": [
    {
     "data": {
      "image/png": "[encoded data removed]",
      "text/plain": [
       "<Figure size 432x288 with 1 Axes>"
      ]
     },
     "metadata": {
      "needs_background": "light"
     },
     "output_type": "display_data"
    }
   ],
   "source": [
    "def f(x,theta):\n",
    "    return (1+theta)*x**theta\n",
    "f1 = np.vectorize(f) \n",
    "x = np.linspace(0,1,1000)\n",
    "plt.plot(x,f1(x,3))\n",
    "plt.show()"
   ]
  },
  {
   "cell_type": "markdown",
   "id": "18f186b5",
   "metadata": {},
   "source": [
    "### Q8)"
   ]
  },
  {
   "cell_type": "code",
   "execution_count": 27,
   "id": "89c78512",
   "metadata": {},
   "outputs": [],
   "source": [
    "x = np.linspace(-4,4,1000)\n",
    "f = lambda x: (1/np.sqrt(2*np.pi))*np.exp(-.5*x**2)\n",
    "y = [f(i) for i in x]\n"
   ]
  },
  {
   "cell_type": "code",
   "execution_count": 28,
   "id": "0042f89a",
   "metadata": {},
   "outputs": [
    {
     "data": {
      "image/png": "[encoded data removed]",
      "text/plain": [
       "<Figure size 432x288 with 1 Axes>"
      ]
     },
     "metadata": {
      "needs_background": "light"
     },
     "output_type": "display_data"
    }
   ],
   "source": [
    "plt.hist(y,bins=10)\n",
    "plt.show()"
   ]
  },
  {
   "cell_type": "markdown",
   "id": "88ac7d8d",
   "metadata": {},
   "source": [
    "### Q9)"
   ]
  },
  {
   "cell_type": "code",
   "execution_count": 105,
   "id": "174b2c9e",
   "metadata": {},
   "outputs": [],
   "source": [
    "ser = pd.Series(data = ['ae','bax','cv','de','e','f','g','h','s','o','u'])\n",
    "res = ser[]"
   ]
  },
  {
   "cell_type": "markdown",
   "id": "c35f7b48",
   "metadata": {},
   "source": [
    "### Q10)"
   ]
  },
  {
   "cell_type": "code",
   "execution_count": 103,
   "id": "1412d072",
   "metadata": {},
   "outputs": [
    {
     "name": "stdout",
     "output_type": "stream",
     "text": [
      "340.0 340.0 0.0\n"
     ]
    }
   ],
   "source": [
    "xx = np.random.randint(1,1000)\n",
    "mean = np.mean(xx)\n",
    "med = np.median(xx)\n",
    "sd = np.subtract(xx,mean)**2/999\n",
    "print(mean,med,sd)"
   ]
  }
 ],
 "metadata": {
  "kernelspec": {
   "display_name": "Python 3 (ipykernel)",
   "language": "python",
   "name": "python3"
  },
  "language_info": {
   "codemirror_mode": {
    "name": "ipython",
    "version": 3
   },
   "file_extension": ".py",
   "mimetype": "text/x-python",
   "name": "python",
   "nbconvert_exporter": "python",
   "pygments_lexer": "ipython3",
   "version": "3.9.13"
  }
 },
 "nbformat": 4,
 "nbformat_minor": 5
}
