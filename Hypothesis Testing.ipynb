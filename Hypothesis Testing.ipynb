{
 "cells": [
  {
   "cell_type": "code",
   "execution_count": 4,
   "id": "386df7c3",
   "metadata": {},
   "outputs": [],
   "source": [
    "import numpy as np\n",
    "import scipy.stats as stats\n",
    "import matplotlib.pyplot as plt"
   ]
  },
  {
   "cell_type": "code",
   "execution_count": 3,
   "id": "d0d32001",
   "metadata": {},
   "outputs": [
    {
     "name": "stdout",
     "output_type": "stream",
     "text": [
      "2.3968766311585883\n"
     ]
    }
   ],
   "source": [
    "x = [ 1.83, 1.83, 1.73, 1.82, 1.83, 1.73, 1.99, 1.85, 1.68, 1.87]\n",
    "xbar = np.mean(x) # Sample mean\n",
    "mu0 = 1.75 # Hypothesized value\n",
    "s = np.std(x, ddof=1) # sample standard deviation # ddoff is set to 1 to obtain unbiased estimator\n",
    "n = len(x) # sample size\n",
    "\n",
    "tcal = (xbar - mu0) / (s / np.sqrt(n))\n",
    "print(tcal)"
   ]
  },
  {
   "cell_type": "code",
   "execution_count": 10,
   "id": "e5d54820",
   "metadata": {},
   "outputs": [
    {
     "data": {
      "image/png": "[encoded data removed]",
      "text/plain": [
       "<Figure size 432x288 with 1 Axes>"
      ]
     },
     "metadata": {
      "needs_background": "light"
     },
     "output_type": "display_data"
    }
   ],
   "source": [
    "tval = np.linspace(-10,10,100)\n",
    "plt.plot(tval, stats.t.pdf(tval, n-1), 'b-', label=\"$t_{n-1}$\")\n",
    "upper_tval_tval = tval[tval > tcal]\n",
    "plt.fill_between(upper_tval_tval, 0, stats.t.pdf(upper_tval_tval, n-1), alpha=.8, label=\"p-value\")\n",
    "plt.legend()\n",
    "plt.show()"
   ]
  },
  {
   "cell_type": "code",
   "execution_count": 12,
   "id": "b2b131c8",
   "metadata": {},
   "outputs": [
    {
     "name": "stdout",
     "output_type": "stream",
     "text": [
      "Ttest_indResult(statistic=3.5511519888466885, pvalue=0.00228208937112721)\n"
     ]
    }
   ],
   "source": [
    "height = np.array([ 1.83, 1.83, 1.73, 1.82, 1.83, 1.73, 1.99, 1.85, 1.68, 1.87,1.66, 1.71, 1.73, 1.64, 1.70, 1.60, 1.79, 1.73, 1.62, 1.77])\n",
    "grp = np.array([\"M\"] * 10 + [\"F\"] * 10) # Compute with scipy\n",
    "print(stats.ttest_ind(height[grp == \"M\"], height[grp == \"F\"], equal_var=True))"
   ]
  }
 ],
 "metadata": {
  "kernelspec": {
   "display_name": "Python 3 (ipykernel)",
   "language": "python",
   "name": "python3"
  },
  "language_info": {
   "codemirror_mode": {
    "name": "ipython",
    "version": 3
   },
   "file_extension": ".py",
   "mimetype": "text/x-python",
   "name": "python",
   "nbconvert_exporter": "python",
   "pygments_lexer": "ipython3",
   "version": "3.9.13"
  }
 },
 "nbformat": 4,
 "nbformat_minor": 5
}
